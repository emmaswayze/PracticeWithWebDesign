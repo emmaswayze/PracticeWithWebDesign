{
  "nbformat": 4,
  "nbformat_minor": 0,
  "metadata": {
    "colab": {
      "name": "Lab1Practice.ipynb",
      "provenance": [],
      "authorship_tag": "ABX9TyNoi55x5IIDn0xGKKPbsdRU",
      "include_colab_link": true
    },
    "kernelspec": {
      "name": "python3",
      "display_name": "Python 3"
    }
  },
  "cells": [
    {
      "cell_type": "markdown",
      "metadata": {
        "id": "view-in-github",
        "colab_type": "text"
      },
      "source": [
        "<a href=\"https://colab.research.google.com/github/emmaswayze/PracticeWithWebDesign/blob/master/Lab1Practice.ipynb\" target=\"_parent\"><img src=\"https://colab.research.google.com/assets/colab-badge.svg\" alt=\"Open In Colab\"/></a>"
      ]
    },
    {
      "cell_type": "markdown",
      "metadata": {
        "id": "U_cNJEn3u8FX",
        "colab_type": "text"
      },
      "source": [
        "##Do you like using Jupyter Notebooks?\n",
        "this is my answer"
      ]
    },
    {
      "cell_type": "markdown",
      "metadata": {
        "id": "58ro0IVuvP8s",
        "colab_type": "text"
      },
      "source": [
        "##What fo you want to learn more about in Jupyter Notebooks?\n",
        "this is my answer\n"
      ]
    },
    {
      "cell_type": "markdown",
      "metadata": {
        "id": "_pjGKBUxvtwY",
        "colab_type": "text"
      },
      "source": [
        "![Lips Print](https://raw.githubusercontent.com/emmaswayze/PracticeWithWebDesign/master/Images/popartborderless_Page_04.jpg)"
      ]
    }
  ]
}