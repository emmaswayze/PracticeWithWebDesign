{
  "nbformat": 4,
  "nbformat_minor": 0,
  "metadata": {
    "colab": {
      "name": "Lab1Practice.ipynb",
      "provenance": [],
      "authorship_tag": "ABX9TyMIm6FrMxYxMSoWHGTCRWNP",
      "include_colab_link": true
    },
    "kernelspec": {
      "name": "python3",
      "display_name": "Python 3"
    }
  },
  "cells": [
    {
      "cell_type": "markdown",
      "metadata": {
        "id": "view-in-github",
        "colab_type": "text"
      },
      "source": [
        "<a href=\"https://colab.research.google.com/github/emmaswayze/PracticeWithWebDesign/blob/master/Lab1Practice.ipynb\" target=\"_parent\"><img src=\"https://colab.research.google.com/assets/colab-badge.svg\" alt=\"Open In Colab\"/></a>"
      ]
    },
    {
      "cell_type": "markdown",
      "metadata": {
        "id": "U_cNJEn3u8FX",
        "colab_type": "text"
      },
      "source": [
        "##Do you like using Jupyter Notebooks?\n",
        "I do not have much experience using Jupyter Notebooks, so I do not have many thoughts on it. From my experiences so far, it seems to be very straightforward and easy to use. "
      ]
    },
    {
      "cell_type": "markdown",
      "metadata": {
        "id": "58ro0IVuvP8s",
        "colab_type": "text"
      },
      "source": [
        "##What do you want to learn more about in Jupyter Notebooks?\n",
        "I would like to get a better understanding of how everything works. This is something very new to me and learning all about Jupyter Notebooks could be very interesting. \n"
      ]
    },
    {
      "cell_type": "markdown",
      "metadata": {
        "id": "_pjGKBUxvtwY",
        "colab_type": "text"
      },
      "source": [
        "![Lips Print](https://raw.githubusercontent.com/emmaswayze/PracticeWithWebDesign/master/Images/popartborderless_Page_04.jpg)"
      ]
    }
  ]
}